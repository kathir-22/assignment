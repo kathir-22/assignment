{
 "cells": [
  {
   "cell_type": "code",
   "execution_count": 6,
   "id": "0f04f410",
   "metadata": {},
   "outputs": [],
   "source": [
    "def sum(m,n,o,p,q):\n",
    "    '''add these numbers'''\n",
    "    return m+n+o+p+q"
   ]
  },
  {
   "cell_type": "code",
   "execution_count": 8,
   "id": "35e034d4",
   "metadata": {},
   "outputs": [
    {
     "name": "stdout",
     "output_type": "stream",
     "text": [
      "the sum of the five numbers is 20\n"
     ]
    }
   ],
   "source": [
    "print(\"the sum of the five numbers is\",sum(8,2,3,0,7))"
   ]
  },
  {
   "cell_type": "code",
   "execution_count": 8,
   "id": "5fbfa2e4",
   "metadata": {},
   "outputs": [
    {
     "name": "stdout",
     "output_type": "stream",
     "text": [
      "dcba4321\n"
     ]
    }
   ],
   "source": [
    "def reverse(str):\n",
    "    rev=str[::-1]\n",
    "    return rev\n",
    "str=\"1234abcd\"\n",
    "rev=reverse(str)\n",
    "print(rev)\n",
    "\n",
    "\n",
    "        \n",
    "        \n",
    "    "
   ]
  },
  {
   "cell_type": "code",
   "execution_count": 21,
   "id": "bb6a3419",
   "metadata": {},
   "outputs": [
    {
     "name": "stdout",
     "output_type": "stream",
     "text": [
      "3\n",
      "12\n"
     ]
    }
   ],
   "source": [
    "def string(s):\n",
    "    d={\"a\":0,\"b\":0}\n",
    "    for i in s:\n",
    "        if i.isupper():\n",
    "            d[\"a\"]+=1\n",
    "        elif i.islower():\n",
    "            d[\"b\"]+=1\n",
    "        else:\n",
    "            \"pass\"\n",
    "    print(d[\"a\"])\n",
    "    print(d[\"b\"])\n",
    "string(\"The quick Brow Fox\")"
   ]
  },
  {
   "cell_type": "code",
   "execution_count": null,
   "id": "82d1b835",
   "metadata": {},
   "outputs": [],
   "source": []
  },
  {
   "cell_type": "code",
   "execution_count": null,
   "id": "20d5aa95",
   "metadata": {},
   "outputs": [],
   "source": []
  }
 ],
 "metadata": {
  "kernelspec": {
   "display_name": "Python 3 (ipykernel)",
   "language": "python",
   "name": "python3"
  },
  "language_info": {
   "codemirror_mode": {
    "name": "ipython",
    "version": 3
   },
   "file_extension": ".py",
   "mimetype": "text/x-python",
   "name": "python",
   "nbconvert_exporter": "python",
   "pygments_lexer": "ipython3",
   "version": "3.10.2"
  }
 },
 "nbformat": 4,
 "nbformat_minor": 5
}
